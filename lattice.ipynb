{
 "cells": [
  {
   "cell_type": "code",
   "execution_count": 1,
   "id": "8e41b492",
   "metadata": {},
   "outputs": [],
   "source": [
    "import numpy as np\n",
    "from mp_api.client import MPRester\n",
    "from pymatgen.core.operations import SymmOp\n",
    "from pymatgen.symmetry.analyzer import SpacegroupAnalyzer\n",
    "from pymatgen.electronic_structure.plotter import BSPlotter\n",
    "from pymatgen.phonon.plotter import PhononBSPlotter\n",
    "from jupyter_jsmol.pymatgen import quick_view\n",
    "from lmapr1492 import plot_brillouin_zone, get_plot_bs, get_plot_dos, get_plot_bs_and_dos, get_branch_wavevectors\n",
    "from plotly.subplots import make_subplots\n",
    "import plotly.graph_objects as go\n",
    "\n",
    "from pymatgen.io.cif import CifParser\n",
    "from pymatgen.ext.matproj import MPRester"
   ]
  },
  {
   "cell_type": "code",
   "execution_count": 2,
   "id": "68479a66",
   "metadata": {},
   "outputs": [],
   "source": [
    "mp_key = \"NKfarLsNHvBTHM4FxxhUlnMjaXDHo7fy\"\n",
    "mp_id = \"mp-22473\""
   ]
  },
  {
   "cell_type": "code",
   "execution_count": 3,
   "id": "f312daca",
   "metadata": {},
   "outputs": [
    {
     "data": {
      "application/vnd.jupyter.widget-view+json": {
       "model_id": "e0792e98f65f46e48616fd34ff56df4f",
       "version_major": 2,
       "version_minor": 0
      },
      "text/plain": [
       "Retrieving MaterialsDoc documents:   0%|          | 0/1 [00:00<?, ?it/s]"
      ]
     },
     "metadata": {},
     "output_type": "display_data"
    },
    {
     "data": {
      "application/vnd.jupyter.widget-view+json": {
       "model_id": "e0162bd8b5514221bb2e550f81c4e3e0",
       "version_major": 2,
       "version_minor": 0
      },
      "text/plain": [
       "Retrieving ElectronicStructureDoc documents:   0%|          | 0/1 [00:00<?, ?it/s]"
      ]
     },
     "metadata": {},
     "output_type": "display_data"
    },
    {
     "data": {
      "application/vnd.jupyter.widget-view+json": {
       "model_id": "1267e74d9d7c4f3a92672031b52de8e8",
       "version_major": 2,
       "version_minor": 0
      },
      "text/plain": [
       "Retrieving ElectronicStructureDoc documents:   0%|          | 0/1 [00:00<?, ?it/s]"
      ]
     },
     "metadata": {},
     "output_type": "display_data"
    },
    {
     "data": {
      "application/vnd.jupyter.widget-view+json": {
       "model_id": "2ee94d670b5d4341acd49ee088c43162",
       "version_major": 2,
       "version_minor": 0
      },
      "text/plain": [
       "Retrieving PhononBSDOSDoc documents:   0%|          | 0/1 [00:00<?, ?it/s]"
      ]
     },
     "metadata": {},
     "output_type": "display_data"
    },
    {
     "data": {
      "application/vnd.jupyter.widget-view+json": {
       "model_id": "53b741d068ec42cc90c67af7bee0ffd2",
       "version_major": 2,
       "version_minor": 0
      },
      "text/plain": [
       "Retrieving PhononBSDOSDoc documents:   0%|          | 0/1 [00:00<?, ?it/s]"
      ]
     },
     "metadata": {},
     "output_type": "display_data"
    }
   ],
   "source": [
    "with MPRester(mp_key) as m:\n",
    "    primitive_structure = m.get_structure_by_material_id(mp_id)\n",
    "    el_bs = m.get_bandstructure_by_material_id(mp_id)\n",
    "    el_dos = m.get_dos_by_material_id(mp_id)\n",
    "    ph_bs = m.get_phonon_bandstructure_by_material_id(mp_id)\n",
    "    ph_dos = m.get_phonon_dos_by_material_id(mp_id)\n",
    "conventionnelle_structure = SpacegroupAnalyzer(primitive_structure).get_conventional_standard_structure()\n",
    "symmops = SpacegroupAnalyzer(conventionnelle_structure).get_space_group_operations()"
   ]
  },
  {
   "cell_type": "markdown",
   "id": "8f2169bb",
   "metadata": {},
   "source": [
    "# Mon travail"
   ]
  },
  {
   "cell_type": "markdown",
   "id": "92de6dbb",
   "metadata": {},
   "source": [
    "**_____________________________________________________________________________**\n",
    "## Vecteurs de base des réseaux directs et indirects\n",
    "**_____________________________________________________________________________**"
   ]
  },
  {
   "cell_type": "code",
   "execution_count": 4,
   "id": "e5780288",
   "metadata": {},
   "outputs": [
    {
     "name": "stdout",
     "output_type": "stream",
     "text": [
      "Les vecteurs de base du réseau direct de la maille primitive sont:\n",
      "\ta = [ 3.83291715 -0.00880891  6.24287955]\n",
      "\tb = [1.75686193 3.40657585 6.24287956]\n",
      "\tc = [-0.0144931  -0.00880892  7.32561187]\n",
      "\n",
      "\n",
      "Les vecteurs de base du réseau réciproque de la maille primitive sont:\n",
      "\ta = [ 1.63371781 -0.84660942  0.00221414]\n",
      "\tb = [6.23020e-04 1.84005e+00 2.21386e-03]\n",
      "\tc = [-1.39278371 -0.84660913  0.85392756]\n",
      "\n",
      "\n",
      "\n",
      "\n",
      "\n",
      "Les vecteurs de base du réseau direct de la maille conventionnelle sont:\n",
      "\ta = [ 1.99842811 -3.46137903  0.        ]\n",
      "\tb = [1.99842811 3.46137903 0.        ]\n",
      "\tc = [ 0.          0.         20.85807446]\n",
      "\n",
      "\n",
      "Les vecteurs de base du réseau réciproque de la maille conventionnelle sont:\n",
      "\ta = [ 1.57203186 -0.90761301  0.        ]\n",
      "\tb = [1.57203186 0.90761301 0.        ]\n",
      "\tc = [0.         0.         0.30123516]\n"
     ]
    }
   ],
   "source": [
    "# Vecteurs de base du réseau direct de la maille primitive\n",
    "ap, bp, cp = primitive_structure.lattice.matrix\n",
    "print(f\"Les vecteurs de base du réseau direct de la maille primitive sont:\\n\\ta = {np.round(ap,8)}\\n\\tb = {np.round(bp,8)}\\n\\tc = {np.round(cp,8)}\")\n",
    "\n",
    "# Vecteurs de base du réseau réciproque de la maille primitive\n",
    "arp, brp, crp = primitive_structure.lattice.reciprocal_lattice.matrix\n",
    "print(f\"\\n\\nLes vecteurs de base du réseau réciproque de la maille primitive sont:\\n\\ta = {np.round(arp,8)}\\n\\tb = {np.round(brp,8)}\\n\\tc = {np.round(crp,8)}\")\n",
    "\n",
    "# Vecteurs de base du réseau direct de la maille conventionnelle\n",
    "ac, bc, cc = conventionnelle_structure.lattice.matrix\n",
    "print(f\"\\n\\n\\n\\n\\nLes vecteurs de base du réseau direct de la maille conventionnelle sont:\\n\\ta = {np.round(ac,8)}\\n\\tb = {np.round(bc,8)}\\n\\tc = {np.round(cc,8)}\")\n",
    "\n",
    "# Vecteurs de base du réseau réciproque de la maille conventionnelle\n",
    "arc, brc, crc = conventionnelle_structure.lattice.reciprocal_lattice.matrix\n",
    "print(f\"\\n\\nLes vecteurs de base du réseau réciproque de la maille conventionnelle sont:\\n\\ta = {np.round(arc,8)}\\n\\tb = {np.round(brc,8)}\\n\\tc = {np.round(crc,8)}\")\n"
   ]
  },
  {
   "cell_type": "markdown",
   "id": "ef37e2a8",
   "metadata": {},
   "source": [
    "## Commentaires sur les réseaux directs et réciproques\n",
    "\n",
    "**Réseau direct:** Un réseau cristallin est défini par ses vecteurs de base a, b, et c indépendants et tels que tout point du réseau peut s’écrire:\n",
    "\n",
    "            R = l a + m b + n c avec l, m, n ∈ ℤ\n",
    "            \n",
    "**Réseau réciproque:** On peut obtenir le réseau réciproque à partir des vecteurs de base. Le réseau réciproque est l'ensemble des vecteurs qui vérifient la condition de Laue."
   ]
  },
  {
   "cell_type": "markdown",
   "id": "590d3f65",
   "metadata": {},
   "source": [
    "**_____________________________________________________________________________**\n",
    "## Type de maille, système cristallin et groupe ponctuel.\n",
    "**_____________________________________________________________________________**"
   ]
  },
  {
   "cell_type": "code",
   "execution_count": 7,
   "id": "71acec5c",
   "metadata": {},
   "outputs": [
    {
     "name": "stdout",
     "output_type": "stream",
     "text": [
      "Type de maille: R\n",
      "____________________________________________________________________________________________________\n",
      "Longueur des vecteurs de base:\n",
      "\t||a|| = 7.326 [Å]\n",
      "\t||b|| = 7.326 [Å]\n",
      "\t||c|| = 7.326 [Å]\n",
      "\n",
      "\n",
      "Angles de base:\n",
      "\tα = 31.662°\n",
      "\tβ = 31.662°\n",
      "\tγ = 31.662°\n",
      "\n",
      "\n",
      "Du fait que ||a|| = ||b|| = ||c|| et que α = β = γ != 90°, on en déduit que le système\n",
      "critallin est trigonal (aussi appelé rhombohédrique.)\n",
      "____________________________________________________________________________________________________\n",
      "Type de groupe ponctuel: -3m\n",
      "Le système poncutel est un système trigonal 3m.\n",
      "Le -3 représente une roto-inversion d'ordre 3 le long de la direction [111].\n",
      "Le m représente la réflexion à travers un plan miroir le long des directions [110], [011], et [101].\n"
     ]
    }
   ],
   "source": [
    "# Type de maille\n",
    "analyseur = SpacegroupAnalyzer(primitive_structure)\n",
    "type_maille = analyseur.get_space_group_symbol()[0]\n",
    "print(\"Type de maille:\", type_maille)\n",
    "\n",
    "# Longueurs et angles des vecteurs de base du réseau direct de la structure primitive --> Structure cristalline\n",
    "long_ac, long_bc, long_cc = np.linalg.norm(primitive_structure.lattice.matrix, axis = 1)\n",
    "alpha, beta, gamma = primitive_structure.lattice.angles  # Angles en degrés\n",
    "\n",
    "print(100*\"_\"+f\"\\nLongueur des vecteurs de base:\\n\\t||a|| = {round(long_ac,3)} [Å]\\n\\t||b|| = {round(long_bc,3)} [Å]\\n\\t||c|| = {round(long_cc,3)} [Å]\")\n",
    "print(f\"\\n\\nAngles de base:\\n\\tα = {round(alpha,3)}°\\n\\tβ = {round(beta,3)}°\\n\\tγ = {round(gamma,3)}°\")\n",
    "print(f\"\\n\\nDu fait que ||a|| = ||b|| = ||c|| et que α = β = γ != 90°, on en déduit que le système\\ncritallin est trigonal (aussi appelé rhombohédrique.)\")\n",
    "\n",
    "# Groupe ponctuel\n",
    "type_groupe_ponctuel = analyseur.get_space_group_symbol()[1:]\n",
    "print(100*\"_\"+\"\\nType de groupe ponctuel:\", type_groupe_ponctuel)\n",
    "print(\"Le système poncutel est un système trigonal 3m.\")\n",
    "print(\"Le -3 représente une roto-inversion d'ordre 3 le long de la direction [111].\")\n",
    "print(\"Le m représente la réflexion à travers un plan miroir le long des directions [110], [011], et [101].\")"
   ]
  }
 ],
 "metadata": {
  "kernelspec": {
   "display_name": "Python 3 (ipykernel)",
   "language": "python",
   "name": "python3"
  },
  "language_info": {
   "codemirror_mode": {
    "name": "ipython",
    "version": 3
   },
   "file_extension": ".py",
   "mimetype": "text/x-python",
   "name": "python",
   "nbconvert_exporter": "python",
   "pygments_lexer": "ipython3",
   "version": "3.9.13"
  }
 },
 "nbformat": 4,
 "nbformat_minor": 5
}
