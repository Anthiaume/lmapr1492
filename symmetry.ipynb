{
 "cells": [
  {
   "cell_type": "markdown",
   "id": "c7b94bda",
   "metadata": {},
   "source": [
    "# Devoir 5\n",
    "**Raphaël Blaude - 55112200**"
   ]
  },
  {
   "cell_type": "code",
   "execution_count": 1,
   "id": "8e41b492",
   "metadata": {},
   "outputs": [],
   "source": [
    "import numpy as np\n",
    "from mp_api.client import MPRester\n",
    "from pymatgen.core.operations import SymmOp\n",
    "from pymatgen.symmetry.analyzer import SpacegroupAnalyzer\n",
    "from pymatgen.electronic_structure.plotter import BSPlotter\n",
    "from pymatgen.phonon.plotter import PhononBSPlotter\n",
    "from jupyter_jsmol.pymatgen import quick_view\n",
    "from lmapr1492 import plot_brillouin_zone, get_plot_bs, get_plot_dos, get_plot_bs_and_dos, get_branch_wavevectors\n",
    "from plotly.subplots import make_subplots\n",
    "import plotly.graph_objects as go\n",
    "\n",
    "from pymatgen.io.cif import CifParser\n",
    "from pymatgen.ext.matproj import MPRester"
   ]
  },
  {
   "cell_type": "code",
   "execution_count": 2,
   "id": "68479a66",
   "metadata": {},
   "outputs": [],
   "source": [
    "mp_key = \"NKfarLsNHvBTHM4FxxhUlnMjaXDHo7fy\"\n",
    "mp_id = \"mp-22473\""
   ]
  },
  {
   "cell_type": "code",
   "execution_count": 3,
   "id": "f312daca",
   "metadata": {},
   "outputs": [
    {
     "data": {
      "application/vnd.jupyter.widget-view+json": {
       "model_id": "edfbeaaaf9f742a0ad97fab10012a189",
       "version_major": 2,
       "version_minor": 0
      },
      "text/plain": [
       "Retrieving MaterialsDoc documents:   0%|          | 0/1 [00:00<?, ?it/s]"
      ]
     },
     "metadata": {},
     "output_type": "display_data"
    },
    {
     "data": {
      "application/vnd.jupyter.widget-view+json": {
       "model_id": "149411b0f15a427088b92d084999b979",
       "version_major": 2,
       "version_minor": 0
      },
      "text/plain": [
       "Retrieving ElectronicStructureDoc documents:   0%|          | 0/1 [00:00<?, ?it/s]"
      ]
     },
     "metadata": {},
     "output_type": "display_data"
    },
    {
     "data": {
      "application/vnd.jupyter.widget-view+json": {
       "model_id": "53e7f18653fe4ad8854972f26b53bd6a",
       "version_major": 2,
       "version_minor": 0
      },
      "text/plain": [
       "Retrieving ElectronicStructureDoc documents:   0%|          | 0/1 [00:00<?, ?it/s]"
      ]
     },
     "metadata": {},
     "output_type": "display_data"
    },
    {
     "data": {
      "application/vnd.jupyter.widget-view+json": {
       "model_id": "c34d39ffbebc44da8ac1e1fe65a94f41",
       "version_major": 2,
       "version_minor": 0
      },
      "text/plain": [
       "Retrieving PhononBSDOSDoc documents:   0%|          | 0/1 [00:00<?, ?it/s]"
      ]
     },
     "metadata": {},
     "output_type": "display_data"
    },
    {
     "data": {
      "application/vnd.jupyter.widget-view+json": {
       "model_id": "c4ef8aa972824babb44ba9819810cb72",
       "version_major": 2,
       "version_minor": 0
      },
      "text/plain": [
       "Retrieving PhononBSDOSDoc documents:   0%|          | 0/1 [00:00<?, ?it/s]"
      ]
     },
     "metadata": {},
     "output_type": "display_data"
    }
   ],
   "source": [
    "with MPRester(mp_key) as m:\n",
    "    primitive_structure = m.get_structure_by_material_id(mp_id)\n",
    "    el_bs = m.get_bandstructure_by_material_id(mp_id)\n",
    "    el_dos = m.get_dos_by_material_id(mp_id)\n",
    "    ph_bs = m.get_phonon_bandstructure_by_material_id(mp_id)\n",
    "    ph_dos = m.get_phonon_dos_by_material_id(mp_id)\n",
    "    conventionnelle_structure = SpacegroupAnalyzer(primitive_structure).get_conventional_standard_structure()\n",
    "    symmops = SpacegroupAnalyzer(conventionnelle_structure).get_space_group_operations()"
   ]
  },
  {
   "cell_type": "markdown",
   "id": "8f2169bb",
   "metadata": {},
   "source": [
    "# Mon travail"
   ]
  },
  {
   "cell_type": "code",
   "execution_count": 4,
   "id": "6bf76cd7",
   "metadata": {},
   "outputs": [
    {
     "data": {
      "application/vnd.jupyter.widget-view+json": {
       "model_id": "c3dbf2bde3f142939372199444db6b48",
       "version_major": 2,
       "version_minor": 0
      },
      "text/plain": [
       "JsmolView(layout=Layout(align_self='stretch', height='400px'))"
      ]
     },
     "metadata": {},
     "output_type": "display_data"
    }
   ],
   "source": [
    "plot0 = quick_view(conventionnelle_structure,\"packed\",conventional=True)\n",
    "display(plot0)"
   ]
  },
  {
   "cell_type": "markdown",
   "id": "b831557f",
   "metadata": {},
   "source": [
    "Ci-dessus la structure conventionnelle de l'atome sans aucun élément de symétrie. Plus loin dans ce notebook, il y aura 3 éléments de symétrie définis par une matrice de rotation et un vecteur de translation. Une image accompagnera ces éléments de symétrie pour les rendre plus visuels.\n",
    "\n",
    "Comme ce sera peu visible à cause de la strucutre de la molécule, rappelons que:\n",
    "\n",
    "    - L'axe rouge est l'axe a\n",
    "    - L'axe vert  est l'axe b\n",
    "    - L'axe bleu  est l'axe C\n",
    "    "
   ]
  },
  {
   "cell_type": "markdown",
   "id": "1bfce7f6",
   "metadata": {},
   "source": [
    "## Symétrie n°1"
   ]
  },
  {
   "cell_type": "code",
   "execution_count": 5,
   "id": "082b60a5",
   "metadata": {},
   "outputs": [
    {
     "name": "stdout",
     "output_type": "stream",
     "text": [
      "L'atome étudié est le n°1 et c'est un atome de sodium (Na).\n",
      "\n",
      "Matrice de rotation et vecteur de translation:\n",
      "\n",
      "Rot:\n",
      "[[-1.  0.  0.]\n",
      " [ 0. -1.  0.]\n",
      " [ 0.  0. -1.]]\n",
      "tau\n",
      "[0. 0. 0.]\n",
      "\n",
      "\n",
      "Position de l'atome avant la symétrie : [0.33333333 0.66666667 0.16666667]\n",
      "Position de l'atome après la symétrie : [-0.33333333 -0.66666667 -0.16666667]\n"
     ]
    },
    {
     "data": {
      "application/vnd.jupyter.widget-view+json": {
       "model_id": "3c8b6be117fd4698a21143e538a953df",
       "version_major": 2,
       "version_minor": 0
      },
      "text/plain": [
       "JsmolView(layout=Layout(align_self='stretch', height='400px'))"
      ]
     },
     "metadata": {},
     "output_type": "display_data"
    }
   ],
   "source": [
    "# Symétrie n°1\n",
    "\n",
    "num_atome   = 1\n",
    "num_sym     = 1\n",
    "op_sym      = symmops[num_sym]\n",
    "\n",
    "print(f\"L'atome étudié est le n°{num_atome} et c'est un atome de sodium (Na).\\n\" )\n",
    "print(f\"Matrice de rotation et vecteur de translation:\\n\\n{op_sym}\\n\\n\")\n",
    "\n",
    "position_debut = conventionnelle_structure.sites[num_atome].frac_coords\n",
    "position_fin   = op_sym.operate(position_debut)\n",
    "print(f\"Position de l'atome avant la symétrie : {position_debut}\")\n",
    "print(f\"Position de l'atome après la symétrie : {position_fin}\")\n",
    "\n",
    "plot1 = quick_view(conventionnelle_structure, \"packed\", conventional = True)\n",
    "display(plot1)\n",
    "plot1.script('draw SYMOP ' + str(num_sym + 1) + ' {atomno = ' + str(num_atome) + '}')"
   ]
  },
  {
   "cell_type": "markdown",
   "id": "a8ff06d0",
   "metadata": {},
   "source": [
    "L'opération de symétrie appliquée ici est une inversion. Toutes les coordonnées sont inversées. Le déterminant de la matrice d'inversion valant -1, c'est donc une opération de symétrie de la deuxième espèce (qui inverse la chiralité.)\n",
    "\n",
    "C'est une opération ponctuelle de symétrie car le vecteur de translation est nul et il y a bien une matrice de rotation orthogonale d'ordre 3."
   ]
  },
  {
   "cell_type": "markdown",
   "id": "aecb7827",
   "metadata": {},
   "source": [
    "## Symétrie n°2"
   ]
  },
  {
   "cell_type": "code",
   "execution_count": 6,
   "id": "769dd5d7",
   "metadata": {},
   "outputs": [
    {
     "name": "stdout",
     "output_type": "stream",
     "text": [
      "L'atome étudié est le n°7 et c'est un atome d'indium (In).\n",
      "\n",
      "Matrice de rotation et vecteur de translation:\n",
      "\n",
      "Rot:\n",
      "[[ 0. -1.  0.]\n",
      " [-1.  0.  0.]\n",
      " [ 0.  0.  1.]]\n",
      "tau\n",
      "[0. 0. 0.]\n",
      "\n",
      "\n",
      "Position de l'atome avant la symétrie : [0.33333333 0.66666667 0.92592484]\n",
      "Position de l'atome après la symétrie : [-0.66666667 -0.33333333  0.92592484]\n"
     ]
    },
    {
     "data": {
      "application/vnd.jupyter.widget-view+json": {
       "model_id": "f9068ef34da0488983015ce58c4f28b5",
       "version_major": 2,
       "version_minor": 0
      },
      "text/plain": [
       "JsmolView(layout=Layout(align_self='stretch', height='400px'))"
      ]
     },
     "metadata": {},
     "output_type": "display_data"
    }
   ],
   "source": [
    "# Symétrie n°2\n",
    "\n",
    "num_atome   = 7\n",
    "num_sym     = 7\n",
    "op_sym      = symmops[num_sym]\n",
    "\n",
    "print(f\"L'atome étudié est le n°{num_atome} et c'est un atome d'indium (In).\\n\" )\n",
    "print(f\"Matrice de rotation et vecteur de translation:\\n\\n{op_sym}\\n\\n\")\n",
    "\n",
    "position_debut = conventionnelle_structure.sites[num_atome].frac_coords\n",
    "position_fin   = op_sym.operate(position_debut)\n",
    "print(f\"Position de l'atome avant la symétrie : {position_debut}\")\n",
    "print(f\"Position de l'atome après la symétrie : {position_fin}\")\n",
    "\n",
    "plot2 = quick_view(conventionnelle_structure, \"packed\", conventional = True)\n",
    "display(plot2)\n",
    "plot2.script('draw SYMOP ' + str(num_sym + 1) + ' {atomno = ' + str(num_atome) + '}')"
   ]
  },
  {
   "cell_type": "markdown",
   "id": "1fe3c910",
   "metadata": {},
   "source": [
    "On remarque ici que le déterminant de la matrice de rotation vaut -1, c'est donc une opération de symétrie de deuxième espèce (qui inverse la chiralité.)\n",
    "C'est une réflexion à travers un plan miroir visible en vert sur le plot.\n",
    "\n",
    "C'est une opération ponctuelle de symétrie car le vecteur de translation est nul et il y a bien une matrice de rotation orthogonale d'ordre 3."
   ]
  },
  {
   "cell_type": "markdown",
   "id": "0163b132",
   "metadata": {},
   "source": [
    "## Symétrie n°3"
   ]
  },
  {
   "cell_type": "code",
   "execution_count": 7,
   "id": "71ebd19e",
   "metadata": {},
   "outputs": [
    {
     "name": "stdout",
     "output_type": "stream",
     "text": [
      "L'atome étudié est le n°8 et c'est un atome de sélénium (Se).\n",
      "\n",
      "Matrice de rotation et vecteur de translation:\n",
      "\n",
      "Rot:\n",
      "[[ 0.  1.  0.]\n",
      " [ 1.  0.  0.]\n",
      " [ 0.  0. -1.]]\n",
      "tau\n",
      "[0.66666667 0.33333333 0.33333333]\n",
      "\n",
      "\n",
      "Position de l'atome avant la symétrie : [0.66666667 0.33333333 0.07407516]\n",
      "Position de l'atome après la symétrie : [1.         1.         0.25925817]\n"
     ]
    },
    {
     "data": {
      "application/vnd.jupyter.widget-view+json": {
       "model_id": "7b37c82d698447aeb08846821858f9f5",
       "version_major": 2,
       "version_minor": 0
      },
      "text/plain": [
       "JsmolView(layout=Layout(align_self='stretch', height='400px'))"
      ]
     },
     "metadata": {},
     "output_type": "display_data"
    }
   ],
   "source": [
    "# Symétrie n°3\n",
    "\n",
    "num_atome   = 8\n",
    "num_sym     = 18\n",
    "op_sym      = symmops[num_sym]\n",
    "\n",
    "print(f\"L'atome étudié est le n°{num_atome} et c'est un atome de sélénium (Se).\\n\" )\n",
    "print(f\"Matrice de rotation et vecteur de translation:\\n\\n{op_sym}\\n\\n\")\n",
    "\n",
    "position_debut = conventionnelle_structure.sites[num_atome].frac_coords\n",
    "position_fin   = op_sym.operate(position_debut)\n",
    "print(f\"Position de l'atome avant la symétrie : {position_debut}\")\n",
    "print(f\"Position de l'atome après la symétrie : {position_fin}\")\n",
    "\n",
    "plot3 = quick_view(conventionnelle_structure, \"packed\", conventional = True)\n",
    "display(plot3)\n",
    "plot3.script('draw SYMOP ' + str(num_sym + 1) + ' {atomno = ' + str(num_atome) + '}')"
   ]
  },
  {
   "cell_type": "markdown",
   "id": "6ed0f728",
   "metadata": {},
   "source": [
    "On constate ici que le déterminant de la matrice de rotation vaut 1, c'est donc une opération de symétrie de première espèce (qui conserve la chiralité.)\n",
    "On peut voir que la rotation vaut π. Cette rotation est suivie d'une inversion. c'est donc une rotation hélicoïdale 2-1.\n",
    "\n",
    "C'est donc une opération de symétrie spatiale qui est bien définie par une matrice de rotation orthogonale et par un vecteur de translation non nul."
   ]
  }
 ],
 "metadata": {
  "kernelspec": {
   "display_name": "Python 3 (ipykernel)",
   "language": "python",
   "name": "python3"
  },
  "language_info": {
   "codemirror_mode": {
    "name": "ipython",
    "version": 3
   },
   "file_extension": ".py",
   "mimetype": "text/x-python",
   "name": "python",
   "nbconvert_exporter": "python",
   "pygments_lexer": "ipython3",
   "version": "3.9.13"
  }
 },
 "nbformat": 4,
 "nbformat_minor": 5
}
